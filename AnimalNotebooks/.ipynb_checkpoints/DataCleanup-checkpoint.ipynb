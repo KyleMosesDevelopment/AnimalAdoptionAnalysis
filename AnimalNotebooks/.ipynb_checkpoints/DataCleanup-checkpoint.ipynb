{
 "cells": [
  {
   "cell_type": "code",
   "execution_count": 1,
   "id": "dc7ce30d",
   "metadata": {},
   "outputs": [],
   "source": [
    "# NOTEBOOK:\n",
    "import pandas as pd\n",
    "import plotly.express as px\n",
    "import statsmodels.api as sm\n",
    "import matplotlib.pyplot as plt\n",
    "import numpy as np\n",
    "import seaborn as sns\n"
   ]
  },
  {
   "cell_type": "code",
   "execution_count": 2,
   "id": "d7b7ca7e",
   "metadata": {},
   "outputs": [
    {
     "name": "stdout",
     "output_type": "stream",
     "text": [
      "0        1.0\n",
      "1        2.0\n",
      "2        2.0\n",
      "3        5.0\n",
      "4        1.0\n",
      "        ... \n",
      "79667    1.0\n",
      "79668    1.0\n",
      "79669    1.0\n",
      "79670    2.0\n",
      "79671    1.0\n",
      "Name: whole_shelter_days, Length: 79672, dtype: float64\n",
      "1607.0\n"
     ]
    }
   ],
   "source": [
    "shelter_df = pd.read_csv('../Resources/aac_intakes_outcomes.csv')\n",
    "shelter_df.head()\n",
    "#shelter_df.columns\n",
    "\n",
    "shelter_df[\"whole_shelter_days\"] = np.ceil(shelter_df[\"time_in_shelter_days\"])\n",
    "print(shelter_df[\"whole_shelter_days\"])\n",
    "shelter_df.head(22)\n",
    "shelter_df.columns\n",
    "print(shelter_df['whole_shelter_days'].max())"
   ]
  },
  {
   "cell_type": "code",
   "execution_count": 3,
   "id": "6bfa4855",
   "metadata": {},
   "outputs": [
    {
     "data": {
      "image/png": "[encoded data removed]",
      "text/plain": [
       "<Figure size 432x288 with 1 Axes>"
      ]
     },
     "metadata": {
      "needs_background": "light"
     },
     "output_type": "display_data"
    }
   ],
   "source": [
    "animal_types = shelter_df[\"animal_type\"].unique()\n",
    "\n",
    "for animal in animal_types:\n",
    "    animal_df = shelter_df.loc[(shelter_df[\"animal_type\"]==animal) & (shelter_df[\"outcome_type\"]=='Adoption')]\n",
    "    x = animal_df[\"animal_type\"]\n",
    "    y = animal_df[\"whole_shelter_days\"]\n",
    "    plt.scatter(x,y)\n",
    "plt.show()"
   ]
  },
  {
   "cell_type": "code",
   "execution_count": 4,
   "id": "b500c7a1",
   "metadata": {},
   "outputs": [
    {
     "name": "stderr",
     "output_type": "stream",
     "text": [
      "C:\\Users\\Kyle Moses\\anaconda3\\lib\\site-packages\\seaborn\\_decorators.py:36: FutureWarning: Pass the following variables as keyword args: x, y. From version 0.12, the only valid positional argument will be `data`, and passing other arguments without an explicit keyword will result in an error or misinterpretation.\n",
      "  warnings.warn(\n",
      "C:\\Users\\Kyle Moses\\anaconda3\\lib\\site-packages\\seaborn\\_decorators.py:36: FutureWarning: Pass the following variables as keyword args: x, y. From version 0.12, the only valid positional argument will be `data`, and passing other arguments without an explicit keyword will result in an error or misinterpretation.\n",
      "  warnings.warn(\n",
      "C:\\Users\\Kyle Moses\\anaconda3\\lib\\site-packages\\seaborn\\_decorators.py:36: FutureWarning: Pass the following variables as keyword args: x, y. From version 0.12, the only valid positional argument will be `data`, and passing other arguments without an explicit keyword will result in an error or misinterpretation.\n",
      "  warnings.warn(\n",
      "C:\\Users\\Kyle Moses\\anaconda3\\lib\\site-packages\\seaborn\\_decorators.py:36: FutureWarning: Pass the following variables as keyword args: x, y. From version 0.12, the only valid positional argument will be `data`, and passing other arguments without an explicit keyword will result in an error or misinterpretation.\n",
      "  warnings.warn(\n"
     ]
    },
    {
     "data": {
      "image/png": "[encoded data removed]",
      "text/plain": [
       "<Figure size 432x288 with 1 Axes>"
      ]
     },
     "metadata": {
      "needs_background": "light"
     },
     "output_type": "display_data"
    }
   ],
   "source": []
  }
 ],
 "metadata": {
  "kernelspec": {
   "display_name": "Python 3",
   "language": "python",
   "name": "python3"
  },
  "language_info": {
   "codemirror_mode": {
    "name": "ipython",
    "version": 3
   },
   "file_extension": ".py",
   "mimetype": "text/x-python",
   "name": "python",
   "nbconvert_exporter": "python",
   "pygments_lexer": "ipython3",
   "version": "3.8.8"
  }
 },
 "nbformat": 4,
 "nbformat_minor": 5
}
